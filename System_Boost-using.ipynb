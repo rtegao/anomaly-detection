{
 "cells": [
  {
   "cell_type": "code",
   "execution_count": 1,
   "metadata": {
    "colab": {
     "base_uri": "https://localhost:8080/",
     "height": 34
    },
    "colab_type": "code",
    "id": "5GbDdifnprsk",
    "outputId": "c79e6937-7f89-4d5d-8fc1-47055edb219b"
   },
   "outputs": [
    {
     "name": "stderr",
     "output_type": "stream",
     "text": [
      "Using TensorFlow backend.\n"
     ]
    }
   ],
   "source": [
    "import pandas as pd\n",
    "import numpy as np\n",
    "\n",
    "import matplotlib.pyplot as plt\n",
    "import seaborn as sns\n",
    "\n",
    "\n",
    "from sklearn.metrics import f1_score\n",
    "from sklearn.metrics import recall_score\n",
    "from sklearn.metrics import precision_score\n",
    "from sklearn.metrics import confusion_matrix\n",
    "from sklearn.metrics import roc_curve,auc\n",
    "\n",
    "from sklearn.model_selection import train_test_split\n",
    "from sklearn.preprocessing import StandardScaler\n",
    "from collections import Counter\n",
    "\n",
    "from catboost import CatBoostClassifier\n",
    "from xgboost import XGBClassifier\n",
    "\n",
    "import keras\n",
    "from keras import models\n",
    "from keras import layers\n",
    "import tensorflow as tf\n",
    "from keras.backend import binary_crossentropy\n",
    "from keras import backend as K\n",
    "from keras.callbacks import Callback\n",
    "from keras import optimizers\n",
    "from keras.backend import mean\n",
    "from keras import regularizers\n",
    "from keras.layers import Dropout\n",
    "from keras.layers import BatchNormalization\n",
    "from keras.models import load_model\n",
    "\n",
    "import warnings\n",
    "warnings.filterwarnings('ignore')"
   ]
  },
  {
   "cell_type": "code",
   "execution_count": 2,
   "metadata": {
    "colab": {
     "base_uri": "https://localhost:8080/",
     "height": 119
    },
    "colab_type": "code",
    "id": "lkFfj86Nprss",
    "outputId": "ed8a6610-c298-43c0-a45b-6d612eabe41a"
   },
   "outputs": [
    {
     "name": "stderr",
     "output_type": "stream",
     "text": [
      "WARNING: Logging before flag parsing goes to stderr.\n",
      "W1008 19:47:45.168292 140657131022144 deprecation_wrapper.py:119] From /usr/local/lib/python3.7/dist-packages/keras/backend/tensorflow_backend.py:95: The name tf.reset_default_graph is deprecated. Please use tf.compat.v1.reset_default_graph instead.\n",
      "\n",
      "W1008 19:47:45.169159 140657131022144 deprecation_wrapper.py:119] From /usr/local/lib/python3.7/dist-packages/keras/backend/tensorflow_backend.py:98: The name tf.placeholder_with_default is deprecated. Please use tf.compat.v1.placeholder_with_default instead.\n",
      "\n",
      "W1008 19:47:45.172429 140657131022144 deprecation_wrapper.py:119] From /usr/local/lib/python3.7/dist-packages/keras/backend/tensorflow_backend.py:102: The name tf.get_default_graph is deprecated. Please use tf.compat.v1.get_default_graph instead.\n",
      "\n"
     ]
    }
   ],
   "source": [
    "config = tf.ConfigProto()\n",
    "config.gpu_options.allow_growth = True\n",
    "session = tf.Session(config=config)\n",
    "K.clear_session()"
   ]
  },
  {
   "cell_type": "markdown",
   "metadata": {
    "colab_type": "text",
    "id": "arbvJXmXv5bw"
   },
   "source": [
    "# Reading Data"
   ]
  },
  {
   "cell_type": "code",
   "execution_count": 3,
   "metadata": {},
   "outputs": [],
   "source": [
    "path = '/home/ricardo/TCC/'"
   ]
  },
  {
   "cell_type": "code",
   "execution_count": 4,
   "metadata": {
    "colab": {},
    "colab_type": "code",
    "id": "NvZB3CWKprsy"
   },
   "outputs": [],
   "source": [
    "df = pd.read_csv(path+'train.csv', sep = ',')\n",
    "X = df.loc[:,'var_0':'var_199']\n",
    "Y = df.loc[:,'target']"
   ]
  },
  {
   "cell_type": "code",
   "execution_count": 5,
   "metadata": {},
   "outputs": [
    {
     "data": {
      "text/html": [
       "<div>\n",
       "<style scoped>\n",
       "    .dataframe tbody tr th:only-of-type {\n",
       "        vertical-align: middle;\n",
       "    }\n",
       "\n",
       "    .dataframe tbody tr th {\n",
       "        vertical-align: top;\n",
       "    }\n",
       "\n",
       "    .dataframe thead th {\n",
       "        text-align: right;\n",
       "    }\n",
       "</style>\n",
       "<table border=\"1\" class=\"dataframe\">\n",
       "  <thead>\n",
       "    <tr style=\"text-align: right;\">\n",
       "      <th></th>\n",
       "      <th>ID_code</th>\n",
       "      <th>target</th>\n",
       "      <th>var_0</th>\n",
       "      <th>var_1</th>\n",
       "      <th>var_2</th>\n",
       "      <th>var_3</th>\n",
       "      <th>var_4</th>\n",
       "      <th>var_5</th>\n",
       "      <th>var_6</th>\n",
       "      <th>var_7</th>\n",
       "      <th>...</th>\n",
       "      <th>var_190</th>\n",
       "      <th>var_191</th>\n",
       "      <th>var_192</th>\n",
       "      <th>var_193</th>\n",
       "      <th>var_194</th>\n",
       "      <th>var_195</th>\n",
       "      <th>var_196</th>\n",
       "      <th>var_197</th>\n",
       "      <th>var_198</th>\n",
       "      <th>var_199</th>\n",
       "    </tr>\n",
       "  </thead>\n",
       "  <tbody>\n",
       "    <tr>\n",
       "      <th>0</th>\n",
       "      <td>train_0</td>\n",
       "      <td>0</td>\n",
       "      <td>8.9255</td>\n",
       "      <td>-6.7863</td>\n",
       "      <td>11.9081</td>\n",
       "      <td>5.0930</td>\n",
       "      <td>11.4607</td>\n",
       "      <td>-9.2834</td>\n",
       "      <td>5.1187</td>\n",
       "      <td>18.6266</td>\n",
       "      <td>...</td>\n",
       "      <td>4.4354</td>\n",
       "      <td>3.9642</td>\n",
       "      <td>3.1364</td>\n",
       "      <td>1.6910</td>\n",
       "      <td>18.5227</td>\n",
       "      <td>-2.3978</td>\n",
       "      <td>7.8784</td>\n",
       "      <td>8.5635</td>\n",
       "      <td>12.7803</td>\n",
       "      <td>-1.0914</td>\n",
       "    </tr>\n",
       "    <tr>\n",
       "      <th>1</th>\n",
       "      <td>train_1</td>\n",
       "      <td>0</td>\n",
       "      <td>11.5006</td>\n",
       "      <td>-4.1473</td>\n",
       "      <td>13.8588</td>\n",
       "      <td>5.3890</td>\n",
       "      <td>12.3622</td>\n",
       "      <td>7.0433</td>\n",
       "      <td>5.6208</td>\n",
       "      <td>16.5338</td>\n",
       "      <td>...</td>\n",
       "      <td>7.6421</td>\n",
       "      <td>7.7214</td>\n",
       "      <td>2.5837</td>\n",
       "      <td>10.9516</td>\n",
       "      <td>15.4305</td>\n",
       "      <td>2.0339</td>\n",
       "      <td>8.1267</td>\n",
       "      <td>8.7889</td>\n",
       "      <td>18.3560</td>\n",
       "      <td>1.9518</td>\n",
       "    </tr>\n",
       "    <tr>\n",
       "      <th>2</th>\n",
       "      <td>train_2</td>\n",
       "      <td>0</td>\n",
       "      <td>8.6093</td>\n",
       "      <td>-2.7457</td>\n",
       "      <td>12.0805</td>\n",
       "      <td>7.8928</td>\n",
       "      <td>10.5825</td>\n",
       "      <td>-9.0837</td>\n",
       "      <td>6.9427</td>\n",
       "      <td>14.6155</td>\n",
       "      <td>...</td>\n",
       "      <td>2.9057</td>\n",
       "      <td>9.7905</td>\n",
       "      <td>1.6704</td>\n",
       "      <td>1.6858</td>\n",
       "      <td>21.6042</td>\n",
       "      <td>3.1417</td>\n",
       "      <td>-6.5213</td>\n",
       "      <td>8.2675</td>\n",
       "      <td>14.7222</td>\n",
       "      <td>0.3965</td>\n",
       "    </tr>\n",
       "    <tr>\n",
       "      <th>3</th>\n",
       "      <td>train_3</td>\n",
       "      <td>0</td>\n",
       "      <td>11.0604</td>\n",
       "      <td>-2.1518</td>\n",
       "      <td>8.9522</td>\n",
       "      <td>7.1957</td>\n",
       "      <td>12.5846</td>\n",
       "      <td>-1.8361</td>\n",
       "      <td>5.8428</td>\n",
       "      <td>14.9250</td>\n",
       "      <td>...</td>\n",
       "      <td>4.4666</td>\n",
       "      <td>4.7433</td>\n",
       "      <td>0.7178</td>\n",
       "      <td>1.4214</td>\n",
       "      <td>23.0347</td>\n",
       "      <td>-1.2706</td>\n",
       "      <td>-2.9275</td>\n",
       "      <td>10.2922</td>\n",
       "      <td>17.9697</td>\n",
       "      <td>-8.9996</td>\n",
       "    </tr>\n",
       "    <tr>\n",
       "      <th>4</th>\n",
       "      <td>train_4</td>\n",
       "      <td>0</td>\n",
       "      <td>9.8369</td>\n",
       "      <td>-1.4834</td>\n",
       "      <td>12.8746</td>\n",
       "      <td>6.6375</td>\n",
       "      <td>12.2772</td>\n",
       "      <td>2.4486</td>\n",
       "      <td>5.9405</td>\n",
       "      <td>19.2514</td>\n",
       "      <td>...</td>\n",
       "      <td>-1.4905</td>\n",
       "      <td>9.5214</td>\n",
       "      <td>-0.1508</td>\n",
       "      <td>9.1942</td>\n",
       "      <td>13.2876</td>\n",
       "      <td>-1.5121</td>\n",
       "      <td>3.9267</td>\n",
       "      <td>9.5031</td>\n",
       "      <td>17.9974</td>\n",
       "      <td>-8.8104</td>\n",
       "    </tr>\n",
       "  </tbody>\n",
       "</table>\n",
       "<p>5 rows × 202 columns</p>\n",
       "</div>"
      ],
      "text/plain": [
       "   ID_code  target    var_0   var_1    var_2   var_3    var_4   var_5   var_6  \\\n",
       "0  train_0       0   8.9255 -6.7863  11.9081  5.0930  11.4607 -9.2834  5.1187   \n",
       "1  train_1       0  11.5006 -4.1473  13.8588  5.3890  12.3622  7.0433  5.6208   \n",
       "2  train_2       0   8.6093 -2.7457  12.0805  7.8928  10.5825 -9.0837  6.9427   \n",
       "3  train_3       0  11.0604 -2.1518   8.9522  7.1957  12.5846 -1.8361  5.8428   \n",
       "4  train_4       0   9.8369 -1.4834  12.8746  6.6375  12.2772  2.4486  5.9405   \n",
       "\n",
       "     var_7  ...  var_190  var_191  var_192  var_193  var_194  var_195  \\\n",
       "0  18.6266  ...   4.4354   3.9642   3.1364   1.6910  18.5227  -2.3978   \n",
       "1  16.5338  ...   7.6421   7.7214   2.5837  10.9516  15.4305   2.0339   \n",
       "2  14.6155  ...   2.9057   9.7905   1.6704   1.6858  21.6042   3.1417   \n",
       "3  14.9250  ...   4.4666   4.7433   0.7178   1.4214  23.0347  -1.2706   \n",
       "4  19.2514  ...  -1.4905   9.5214  -0.1508   9.1942  13.2876  -1.5121   \n",
       "\n",
       "   var_196  var_197  var_198  var_199  \n",
       "0   7.8784   8.5635  12.7803  -1.0914  \n",
       "1   8.1267   8.7889  18.3560   1.9518  \n",
       "2  -6.5213   8.2675  14.7222   0.3965  \n",
       "3  -2.9275  10.2922  17.9697  -8.9996  \n",
       "4   3.9267   9.5031  17.9974  -8.8104  \n",
       "\n",
       "[5 rows x 202 columns]"
      ]
     },
     "execution_count": 5,
     "metadata": {},
     "output_type": "execute_result"
    }
   ],
   "source": [
    "df.head()"
   ]
  },
  {
   "cell_type": "markdown",
   "metadata": {
    "colab_type": "text",
    "id": "DQktoCxVwDhJ"
   },
   "source": [
    "# Normalazing Data"
   ]
  },
  {
   "cell_type": "code",
   "execution_count": 6,
   "metadata": {
    "colab": {},
    "colab_type": "code",
    "id": "E-MzGW_5prs5"
   },
   "outputs": [],
   "source": [
    "meanX = X.mean(axis = 0)\n",
    "stdX = X.std(axis = 0)\n",
    "X_norm = (X-meanX)/stdX"
   ]
  },
  {
   "cell_type": "markdown",
   "metadata": {
    "colab_type": "text",
    "id": "GGVy__QawKg2"
   },
   "source": [
    "# Separating the Data in anomaly and not anomaly"
   ]
  },
  {
   "cell_type": "code",
   "execution_count": 7,
   "metadata": {
    "colab": {},
    "colab_type": "code",
    "id": "J_0CD3Evprs_"
   },
   "outputs": [],
   "source": [
    "fraud_index = np.where(Y==1)\n",
    "honest_index = np.where(Y==0)\n",
    "fraud = X_norm.loc[fraud_index]\n",
    "honest = X_norm.loc[honest_index]\n",
    "\n",
    "yh = Y.loc[honest_index]\n",
    "yf = Y.loc[fraud_index]"
   ]
  },
  {
   "cell_type": "markdown",
   "metadata": {
    "colab_type": "text",
    "id": "oFOdFcT4zro6"
   },
   "source": [
    "# Balanced Data"
   ]
  },
  {
   "cell_type": "markdown",
   "metadata": {
    "colab_type": "text",
    "id": "nDSYkriSxx9P"
   },
   "source": [
    "### Verifying how unbalanced is our dataset"
   ]
  },
  {
   "cell_type": "code",
   "execution_count": 8,
   "metadata": {
    "colab": {
     "base_uri": "https://localhost:8080/",
     "height": 298
    },
    "colab_type": "code",
    "id": "U0stSa5TyFba",
    "outputId": "94297cfe-dbc8-437a-9445-ed5e3a1455f2"
   },
   "outputs": [
    {
     "data": {
      "text/plain": [
       "Text(0.5, 1.0, '8.951238929246692')"
      ]
     },
     "execution_count": 8,
     "metadata": {},
     "output_type": "execute_result"
    },
    {
     "data": {
      "image/png": "[encoded data removed]",
      "text/plain": [
       "<Figure size 432x288 with 1 Axes>"
      ]
     },
     "metadata": {
      "needs_background": "light"
     },
     "output_type": "display_data"
    }
   ],
   "source": [
    "plt.hist(Y)\n",
    "plt.title(len(yh)/len(yf))"
   ]
  },
  {
   "cell_type": "markdown",
   "metadata": {
    "colab_type": "text",
    "id": "bxBJqAMsyzbZ"
   },
   "source": [
    "### To balance the data we will eliminate some not anomaly samples"
   ]
  },
  {
   "cell_type": "code",
   "execution_count": 9,
   "metadata": {
    "colab": {},
    "colab_type": "code",
    "id": "VyA_55_IprtG"
   },
   "outputs": [],
   "source": [
    "h_used, x_trash, yh, y_trash = train_test_split(honest, yh, test_size = 0.75, random_state = 30)\n",
    "x_used = pd.concat([h_used,fraud],ignore_index = False)\n",
    "y_used = pd.concat([yh,yf],ignore_index=False)"
   ]
  },
  {
   "cell_type": "markdown",
   "metadata": {
    "colab_type": "text",
    "id": "a4rMEq-nzUCb"
   },
   "source": [
    "### Verifying if it is balanced now"
   ]
  },
  {
   "cell_type": "code",
   "execution_count": 10,
   "metadata": {
    "colab": {
     "base_uri": "https://localhost:8080/",
     "height": 298
    },
    "colab_type": "code",
    "id": "BOeBEVaezMj7",
    "outputId": "51f12e2a-2863-45be-d958-15b91dab4b54"
   },
   "outputs": [
    {
     "data": {
      "text/plain": [
       "Text(0.5, 1.0, '2.2377848542143495')"
      ]
     },
     "execution_count": 10,
     "metadata": {},
     "output_type": "execute_result"
    },
    {
     "data": {
      "image/png": "[encoded data removed]",
      "text/plain": [
       "<Figure size 432x288 with 1 Axes>"
      ]
     },
     "metadata": {
      "needs_background": "light"
     },
     "output_type": "display_data"
    }
   ],
   "source": [
    "plt.hist(Y)\n",
    "plt.title(len(yh)/len(yf))"
   ]
  },
  {
   "cell_type": "markdown",
   "metadata": {
    "colab_type": "text",
    "id": "KVWhuN2LzkXv"
   },
   "source": [
    "# Separating in Train, Val and Test data"
   ]
  },
  {
   "cell_type": "code",
   "execution_count": 11,
   "metadata": {
    "colab": {},
    "colab_type": "code",
    "id": "egUMis-lzLRS"
   },
   "outputs": [],
   "source": [
    "x_train,x_test,y_train,y_test = train_test_split(x_used,y_used,test_size=0.3,random_state = 30)\n",
    "x_val,x_test,y_val,y_test = train_test_split(x_test,y_test,test_size=0.5,random_state = 30)"
   ]
  },
  {
   "cell_type": "code",
   "execution_count": 12,
   "metadata": {
    "colab": {},
    "colab_type": "code",
    "id": "AoOk5LgaprtM"
   },
   "outputs": [],
   "source": [
    "x_data = [x_train,x_val,x_test]\n",
    "y_data = [y_train,y_val,y_test]"
   ]
  },
  {
   "cell_type": "markdown",
   "metadata": {
    "colab_type": "text",
    "id": "Q2s7S8kPz_RS"
   },
   "source": [
    "### Verifying the size of each dataframe"
   ]
  },
  {
   "cell_type": "code",
   "execution_count": 13,
   "metadata": {
    "colab": {
     "base_uri": "https://localhost:8080/",
     "height": 68
    },
    "colab_type": "code",
    "id": "9Z0w-22j0IFP",
    "outputId": "b1585306-9dfe-4c60-e02e-0c41b59ccbb5"
   },
   "outputs": [
    {
     "name": "stdout",
     "output_type": "stream",
     "text": [
      "Size of Train Data: 45551, not anomalys/anomaly:Counter({0: 31412, 1: 14139})\n",
      "Size of val Data: 9761, not anomalys/anomaly:Counter({0: 6779, 1: 2982})\n",
      "Size of test Data: 9761, not anomalys/anomaly:Counter({0: 6784, 1: 2977})\n"
     ]
    }
   ],
   "source": [
    "print('Size of Train Data: {0}, not anomalys/anomaly:{1}'.format(len(x_data[0]),Counter(y_data[0])))\n",
    "print('Size of val Data: {0}, not anomalys/anomaly:{1}'.format(len(x_data[1]),Counter(y_data[1])))\n",
    "print('Size of test Data: {0}, not anomalys/anomaly:{1}'.format(len(x_data[2]),Counter(y_data[2])))"
   ]
  },
  {
   "cell_type": "markdown",
   "metadata": {
    "colab_type": "text",
    "id": "GcVAiF6d1Frp"
   },
   "source": [
    "# Importing some metrics to evaluating the models."
   ]
  },
  {
   "cell_type": "code",
   "execution_count": 14,
   "metadata": {
    "colab": {},
    "colab_type": "code",
    "id": "NAiH38taprtR"
   },
   "outputs": [],
   "source": [
    "def f1Score(y_true, y_pred):\n",
    "    def recall(y_true, y_pred):\n",
    "        \"\"\"Recall metric.\n",
    "\n",
    "        Only computes a batch-wise average of recall.\n",
    "\n",
    "        Computes the recall, a metric for multi-label classification of\n",
    "        how many relevant items are selected.\n",
    "        \"\"\"\n",
    "        true_positives = K.sum(K.round(K.clip(y_true * y_pred, 0, 1)))\n",
    "        possible_positives = K.sum(K.round(K.clip(y_true, 0, 1)))\n",
    "        recall = true_positives / (possible_positives + K.epsilon())\n",
    "        return recall\n",
    "\n",
    "    def precision(y_true, y_pred):\n",
    "        \"\"\"Precision metric.\n",
    "\n",
    "        Only computes a batch-wise average of precision.\n",
    "\n",
    "        Computes the precision, a metric for multi-label classification of\n",
    "        how many selected items are relevant.\n",
    "        \"\"\"\n",
    "        true_positives = K.sum(K.round(K.clip(y_true * y_pred, 0, 1)))\n",
    "        predicted_positives = K.sum(K.round(K.clip(y_pred, 0, 1)))\n",
    "        precision = true_positives / (predicted_positives + K.epsilon())\n",
    "        return precision\n",
    "    precision = precision(y_true, y_pred)\n",
    "    recall = recall(y_true, y_pred)\n",
    "    return 2*((precision*recall)/(precision+recall+K.epsilon()))"
   ]
  },
  {
   "cell_type": "code",
   "execution_count": 15,
   "metadata": {
    "colab": {},
    "colab_type": "code",
    "id": "KadXhffMprtX"
   },
   "outputs": [],
   "source": [
    "from sklearn.utils.multiclass import unique_labels\n",
    "from sklearn.metrics import confusion_matrix\n",
    "def plot_confusion_matrix(y_true, y_pred, classes,\n",
    "                          normalize=False,\n",
    "                          title=None,\n",
    "                          cmap=plt.cm.Blues):\n",
    "    \"\"\"\n",
    "    This function prints and plots the confusion matrix.\n",
    "    Normalization can be applied by setting `normalize=True`.\n",
    "    \"\"\"\n",
    "    if not title:\n",
    "        if normalize:\n",
    "            title = 'Normalized confusion matrix'\n",
    "        else:\n",
    "            title = 'Confusion matrix, without normalization'\n",
    "\n",
    "    # Compute confusion matrix\n",
    "    cm = confusion_matrix(y_true, y_pred)\n",
    "    # Only use the labels that appear in the data\n",
    "    classes = classes[unique_labels(y_true, y_pred)]\n",
    "    if normalize:\n",
    "        cm = cm.astype('float') / cm.sum(axis=1)[:, np.newaxis]\n",
    "        print(\"Normalized confusion matrix\")\n",
    "    else:\n",
    "        print('Confusion matrix, without normalization')\n",
    "\n",
    "    print(cm)\n",
    "\n",
    "    fig, ax = plt.subplots()\n",
    "    im = ax.imshow(cm, interpolation='nearest', cmap=cmap)\n",
    "    ax.figure.colorbar(im, ax=ax)\n",
    "    # We want to show all ticks...\n",
    "    ax.set(xticks=np.arange(cm.shape[1]),\n",
    "           yticks=np.arange(cm.shape[0]),\n",
    "           # ... and label them with the respective list entries\n",
    "           xticklabels=classes, yticklabels=classes,\n",
    "           title=title,\n",
    "           ylabel='True label',\n",
    "           xlabel='Predicted label')\n",
    "\n",
    "    # Rotate the tick labels and set their alignment.\n",
    "    plt.setp(ax.get_xticklabels(), rotation=45, ha=\"right\",\n",
    "             rotation_mode=\"anchor\")\n",
    "\n",
    "    # Loop over data dimensions and create text annotations.\n",
    "    fmt = '.2f' if normalize else 'd'\n",
    "    thresh = cm.max() / 2.\n",
    "    for i in range(cm.shape[0]):\n",
    "        for j in range(cm.shape[1]):\n",
    "            ax.text(j, i, format(cm[i, j], fmt),\n",
    "                    ha=\"center\", va=\"center\",\n",
    "                    color=\"white\" if cm[i, j] > thresh else \"black\")\n",
    "    fig.tight_layout()\n",
    "    return ax"
   ]
  },
  {
   "cell_type": "markdown",
   "metadata": {
    "colab_type": "text",
    "id": "ZmdZaZLM1PTx"
   },
   "source": [
    "# Here we have 3 differents model, each of them will make a especific work:\n",
    "\n",
    "- The best non anomaly predictor.\n",
    "- The best anomaly predictor.\n",
    "- Balanced predictor."
   ]
  },
  {
   "cell_type": "code",
   "execution_count": 16,
   "metadata": {
    "colab": {
     "base_uri": "https://localhost:8080/",
     "height": 221
    },
    "colab_type": "code",
    "id": "TUHMd762prtd",
    "outputId": "180e4a2f-4cb9-4da4-859c-7cab2303b5f5"
   },
   "outputs": [
    {
     "name": "stderr",
     "output_type": "stream",
     "text": [
      "W1008 19:47:53.462038 140657131022144 deprecation_wrapper.py:119] From /usr/local/lib/python3.7/dist-packages/keras/backend/tensorflow_backend.py:517: The name tf.placeholder is deprecated. Please use tf.compat.v1.placeholder instead.\n",
      "\n",
      "W1008 19:47:53.463912 140657131022144 deprecation_wrapper.py:119] From /usr/local/lib/python3.7/dist-packages/keras/backend/tensorflow_backend.py:4138: The name tf.random_uniform is deprecated. Please use tf.random.uniform instead.\n",
      "\n",
      "W1008 19:47:53.481639 140657131022144 deprecation.py:506] From /usr/local/lib/python3.7/dist-packages/keras/backend/tensorflow_backend.py:3445: calling dropout (from tensorflow.python.ops.nn_ops) with keep_prob is deprecated and will be removed in a future version.\n",
      "Instructions for updating:\n",
      "Please use `rate` instead of `keep_prob`. Rate should be set to `rate = 1 - keep_prob`.\n",
      "W1008 19:47:53.638101 140657131022144 deprecation_wrapper.py:119] From /usr/local/lib/python3.7/dist-packages/keras/optimizers.py:790: The name tf.train.Optimizer is deprecated. Please use tf.compat.v1.train.Optimizer instead.\n",
      "\n",
      "W1008 19:47:53.647230 140657131022144 deprecation.py:323] From /usr/local/lib/python3.7/dist-packages/tensorflow/python/ops/nn_impl.py:180: add_dispatch_support.<locals>.wrapper (from tensorflow.python.ops.array_ops) is deprecated and will be removed in a future version.\n",
      "Instructions for updating:\n",
      "Use tf.where in 2.0, which has the same broadcast rule as np.where\n"
     ]
    },
    {
     "data": {
      "text/plain": [
       "<catboost.core.CatBoostClassifier at 0x7fec7df7d278>"
      ]
     },
     "execution_count": 16,
     "metadata": {},
     "output_type": "execute_result"
    }
   ],
   "source": [
    "xgb = XGBClassifier()\n",
    "xgb.load_model(path+'Undersampling/Boost/models/XGBoostClassifier')\n",
    "\n",
    "rna = load_model(path+'Undersampling/models/RNA5/RNA5.h5', custom_objects={'f1Score': f1Score})\n",
    "\n",
    "cat = CatBoostClassifier()\n",
    "cat.load_model(path+'/Undersampling/Boost/models/CatBoostClassifier')"
   ]
  },
  {
   "cell_type": "code",
   "execution_count": 17,
   "metadata": {
    "colab": {
     "base_uri": "https://localhost:8080/",
     "height": 391
    },
    "colab_type": "code",
    "id": "za3JZpIqGVG9",
    "outputId": "68135397-f431-4b61-9dfd-3af9d7e46278",
    "scrolled": true
   },
   "outputs": [
    {
     "name": "stdout",
     "output_type": "stream",
     "text": [
      "_________________________________________________________________\n",
      "Layer (type)                 Output Shape              Param #   \n",
      "=================================================================\n",
      "dense_1 (Dense)              (None, 100)               20100     \n",
      "_________________________________________________________________\n",
      "dropout_1 (Dropout)          (None, 100)               0         \n",
      "_________________________________________________________________\n",
      "dense_2 (Dense)              (None, 100)               10100     \n",
      "_________________________________________________________________\n",
      "dropout_2 (Dropout)          (None, 100)               0         \n",
      "_________________________________________________________________\n",
      "dense_3 (Dense)              (None, 100)               10100     \n",
      "_________________________________________________________________\n",
      "dropout_3 (Dropout)          (None, 100)               0         \n",
      "_________________________________________________________________\n",
      "dense_4 (Dense)              (None, 1)                 101       \n",
      "=================================================================\n",
      "Total params: 40,401\n",
      "Trainable params: 40,401\n",
      "Non-trainable params: 0\n",
      "_________________________________________________________________\n"
     ]
    }
   ],
   "source": [
    "rna.summary()"
   ]
  },
  {
   "cell_type": "markdown",
   "metadata": {},
   "source": [
    "# Making Predictions"
   ]
  },
  {
   "cell_type": "code",
   "execution_count": 18,
   "metadata": {},
   "outputs": [],
   "source": [
    "new_data = [np.vstack((cat.predict_proba(x_data[0])[:,1],xgb.predict_proba(x_data[0])[:,1],np.ravel(rna.predict(x_data[0])),y_data[0])).T,\n",
    "         np.vstack((cat.predict_proba(x_data[1])[:,1],xgb.predict_proba(x_data[1])[:,1],np.ravel(rna.predict(x_data[1])),y_data[1])).T,\n",
    "         np.vstack((cat.predict_proba(x_data[2])[:,1],xgb.predict_proba(x_data[2])[:,1],np.ravel(rna.predict(x_data[2])),y_data[2])).T] "
   ]
  },
  {
   "cell_type": "code",
   "execution_count": 19,
   "metadata": {},
   "outputs": [],
   "source": [
    "for i in range(len(new_data)):\n",
    "    new_data[i] = pd.DataFrame(new_data[i],columns=['cat','xgb','rna','target'])\n",
    "    average = pd.DataFrame(new_data[i].iloc[:,[0,1,2]].mean(axis = 1, skipna = True),columns=['mean'])\n",
    "    new_data[i] = new_data[i].join(average.reset_index(drop=True))\n",
    "    geo_mean = pd.DataFrame(np.sqrt(new_data[i].iloc[:,[0,1,2]].prod(axis = 1, skipna = True))/\n",
    "                           new_data[i].iloc[:,[0,1,2]].sum(axis = 1, skipna = True),columns=['geo_mean'])\n",
    "    new_data[i] = new_data[i].join(geo_mean.reset_index(drop=True))\n",
    "    new_data[i] = new_data[i][['cat','xgb','rna','geo_mean','mean','target']]\n"
   ]
  },
  {
   "cell_type": "code",
   "execution_count": 20,
   "metadata": {},
   "outputs": [
    {
     "data": {
      "text/html": [
       "<div>\n",
       "<style scoped>\n",
       "    .dataframe tbody tr th:only-of-type {\n",
       "        vertical-align: middle;\n",
       "    }\n",
       "\n",
       "    .dataframe tbody tr th {\n",
       "        vertical-align: top;\n",
       "    }\n",
       "\n",
       "    .dataframe thead th {\n",
       "        text-align: right;\n",
       "    }\n",
       "</style>\n",
       "<table border=\"1\" class=\"dataframe\">\n",
       "  <thead>\n",
       "    <tr style=\"text-align: right;\">\n",
       "      <th></th>\n",
       "      <th>cat</th>\n",
       "      <th>xgb</th>\n",
       "      <th>rna</th>\n",
       "      <th>geo_mean</th>\n",
       "      <th>mean</th>\n",
       "      <th>target</th>\n",
       "    </tr>\n",
       "  </thead>\n",
       "  <tbody>\n",
       "    <tr>\n",
       "      <th>0</th>\n",
       "      <td>0.031772</td>\n",
       "      <td>0.657060</td>\n",
       "      <td>0.058842</td>\n",
       "      <td>0.046877</td>\n",
       "      <td>0.249225</td>\n",
       "      <td>0.0</td>\n",
       "    </tr>\n",
       "    <tr>\n",
       "      <th>1</th>\n",
       "      <td>0.029919</td>\n",
       "      <td>0.633083</td>\n",
       "      <td>0.126966</td>\n",
       "      <td>0.062078</td>\n",
       "      <td>0.263323</td>\n",
       "      <td>0.0</td>\n",
       "    </tr>\n",
       "    <tr>\n",
       "      <th>2</th>\n",
       "      <td>0.507097</td>\n",
       "      <td>0.687710</td>\n",
       "      <td>0.253116</td>\n",
       "      <td>0.205193</td>\n",
       "      <td>0.482641</td>\n",
       "      <td>1.0</td>\n",
       "    </tr>\n",
       "    <tr>\n",
       "      <th>3</th>\n",
       "      <td>0.980173</td>\n",
       "      <td>0.933945</td>\n",
       "      <td>0.885128</td>\n",
       "      <td>0.321569</td>\n",
       "      <td>0.933082</td>\n",
       "      <td>1.0</td>\n",
       "    </tr>\n",
       "    <tr>\n",
       "      <th>4</th>\n",
       "      <td>0.094978</td>\n",
       "      <td>0.653517</td>\n",
       "      <td>0.085252</td>\n",
       "      <td>0.087249</td>\n",
       "      <td>0.277916</td>\n",
       "      <td>0.0</td>\n",
       "    </tr>\n",
       "  </tbody>\n",
       "</table>\n",
       "</div>"
      ],
      "text/plain": [
       "        cat       xgb       rna  geo_mean      mean  target\n",
       "0  0.031772  0.657060  0.058842  0.046877  0.249225     0.0\n",
       "1  0.029919  0.633083  0.126966  0.062078  0.263323     0.0\n",
       "2  0.507097  0.687710  0.253116  0.205193  0.482641     1.0\n",
       "3  0.980173  0.933945  0.885128  0.321569  0.933082     1.0\n",
       "4  0.094978  0.653517  0.085252  0.087249  0.277916     0.0"
      ]
     },
     "execution_count": 20,
     "metadata": {},
     "output_type": "execute_result"
    }
   ],
   "source": [
    "new_data[0].head()"
   ]
  },
  {
   "cell_type": "markdown",
   "metadata": {},
   "source": [
    "# Inputing the new data in Combiner Algorithm"
   ]
  },
  {
   "cell_type": "code",
   "execution_count": 23,
   "metadata": {},
   "outputs": [
    {
     "name": "stdout",
     "output_type": "stream",
     "text": [
      "_________________________________________________________________\n",
      "Layer (type)                 Output Shape              Param #   \n",
      "=================================================================\n",
      "dense_1 (Dense)              (None, 3)                 18        \n",
      "_________________________________________________________________\n",
      "dense_2 (Dense)              (None, 1)                 4         \n",
      "=================================================================\n",
      "Total params: 22\n",
      "Trainable params: 22\n",
      "Non-trainable params: 0\n",
      "_________________________________________________________________\n"
     ]
    }
   ],
   "source": [
    "K.clear_session()\n",
    "\n",
    "model = models.Sequential()\n",
    "model.add(layers.Dense(units = 3, activation='tanh',input_shape = (5,)))\n",
    "model.add(layers.Dense(units = 1,activation = 'sigmoid'))\n",
    "\n",
    "model.summary()"
   ]
  },
  {
   "cell_type": "code",
   "execution_count": 24,
   "metadata": {
    "scrolled": true
   },
   "outputs": [
    {
     "name": "stdout",
     "output_type": "stream",
     "text": [
      "Train on 45551 samples, validate on 9761 samples\n",
      "Epoch 1/50\n",
      "45551/45551 [==============================] - 1s 30us/step - loss: 0.6693 - f1Score: 0.1188 - val_loss: 0.6122 - val_f1Score: 0.0000e+00\n",
      "Epoch 2/50\n",
      "45551/45551 [==============================] - 1s 26us/step - loss: 0.5900 - f1Score: 0.0000e+00 - val_loss: 0.5716 - val_f1Score: 0.0000e+00\n",
      "Epoch 3/50\n",
      "45551/45551 [==============================] - 1s 27us/step - loss: 0.5551 - f1Score: 0.0000e+00 - val_loss: 0.5450 - val_f1Score: 0.0000e+00\n",
      "Epoch 4/50\n",
      "45551/45551 [==============================] - 1s 27us/step - loss: 0.5265 - f1Score: 0.0063 - val_loss: 0.5215 - val_f1Score: 0.0533\n",
      "Epoch 5/50\n",
      "45551/45551 [==============================] - 1s 27us/step - loss: 0.4997 - f1Score: 0.2785 - val_loss: 0.4996 - val_f1Score: 0.3955\n",
      "Epoch 6/50\n",
      "45551/45551 [==============================] - 1s 31us/step - loss: 0.4744 - f1Score: 0.5199 - val_loss: 0.4797 - val_f1Score: 0.5364\n",
      "Epoch 7/50\n",
      "45551/45551 [==============================] - 1s 28us/step - loss: 0.4511 - f1Score: 0.6262 - val_loss: 0.4620 - val_f1Score: 0.5911\n",
      "Epoch 8/50\n",
      "45551/45551 [==============================] - 1s 30us/step - loss: 0.4301 - f1Score: 0.6735 - val_loss: 0.4467 - val_f1Score: 0.6251\n",
      "Epoch 9/50\n",
      "45551/45551 [==============================] - 1s 31us/step - loss: 0.4118 - f1Score: 0.6932 - val_loss: 0.4342 - val_f1Score: 0.6500\n",
      "Epoch 10/50\n",
      "45551/45551 [==============================] - 1s 31us/step - loss: 0.3962 - f1Score: 0.7152 - val_loss: 0.4240 - val_f1Score: 0.6670\n",
      "Epoch 11/50\n",
      "45551/45551 [==============================] - 1s 29us/step - loss: 0.3829 - f1Score: 0.7288 - val_loss: 0.4158 - val_f1Score: 0.6724\n",
      "Epoch 12/50\n",
      "45551/45551 [==============================] - 1s 29us/step - loss: 0.3717 - f1Score: 0.7368 - val_loss: 0.4094 - val_f1Score: 0.6796\n",
      "Epoch 13/50\n",
      "45551/45551 [==============================] - 1s 30us/step - loss: 0.3624 - f1Score: 0.7450 - val_loss: 0.4045 - val_f1Score: 0.6873\n",
      "Epoch 14/50\n",
      "45551/45551 [==============================] - 1s 29us/step - loss: 0.3545 - f1Score: 0.7481 - val_loss: 0.4005 - val_f1Score: 0.6901\n",
      "Epoch 15/50\n",
      "45551/45551 [==============================] - 1s 30us/step - loss: 0.3478 - f1Score: 0.7495 - val_loss: 0.3976 - val_f1Score: 0.6944\n",
      "Epoch 16/50\n",
      "45551/45551 [==============================] - 1s 30us/step - loss: 0.3421 - f1Score: 0.7546 - val_loss: 0.3953 - val_f1Score: 0.6956\n",
      "Epoch 17/50\n",
      "45551/45551 [==============================] - 1s 29us/step - loss: 0.3372 - f1Score: 0.7576 - val_loss: 0.3935 - val_f1Score: 0.6977\n",
      "Epoch 18/50\n",
      "45551/45551 [==============================] - 1s 29us/step - loss: 0.3329 - f1Score: 0.7595 - val_loss: 0.3922 - val_f1Score: 0.6990\n",
      "Epoch 19/50\n",
      "45551/45551 [==============================] - 1s 29us/step - loss: 0.3291 - f1Score: 0.7610 - val_loss: 0.3912 - val_f1Score: 0.7009\n",
      "Epoch 20/50\n",
      "45551/45551 [==============================] - 1s 29us/step - loss: 0.3257 - f1Score: 0.7646 - val_loss: 0.3904 - val_f1Score: 0.7016\n",
      "Epoch 21/50\n",
      "45551/45551 [==============================] - 1s 29us/step - loss: 0.3227 - f1Score: 0.7671 - val_loss: 0.3897 - val_f1Score: 0.7015\n",
      "Epoch 22/50\n",
      "45551/45551 [==============================] - 1s 29us/step - loss: 0.3199 - f1Score: 0.7670 - val_loss: 0.3892 - val_f1Score: 0.7026\n",
      "Epoch 23/50\n",
      "45551/45551 [==============================] - 1s 30us/step - loss: 0.3174 - f1Score: 0.7705 - val_loss: 0.3889 - val_f1Score: 0.7043\n",
      "Epoch 24/50\n",
      "45551/45551 [==============================] - 1s 30us/step - loss: 0.3151 - f1Score: 0.7724 - val_loss: 0.3886 - val_f1Score: 0.7059\n",
      "Epoch 25/50\n",
      "45551/45551 [==============================] - 1s 29us/step - loss: 0.3129 - f1Score: 0.7748 - val_loss: 0.3884 - val_f1Score: 0.7062\n",
      "Epoch 26/50\n",
      "45551/45551 [==============================] - 1s 30us/step - loss: 0.3108 - f1Score: 0.7744 - val_loss: 0.3882 - val_f1Score: 0.7053\n",
      "Epoch 27/50\n",
      "45551/45551 [==============================] - 1s 30us/step - loss: 0.3089 - f1Score: 0.7775 - val_loss: 0.3881 - val_f1Score: 0.7065\n",
      "Epoch 28/50\n",
      "45551/45551 [==============================] - 1s 30us/step - loss: 0.3070 - f1Score: 0.7774 - val_loss: 0.3880 - val_f1Score: 0.7070\n",
      "Epoch 29/50\n",
      "45551/45551 [==============================] - 1s 29us/step - loss: 0.3053 - f1Score: 0.7784 - val_loss: 0.3879 - val_f1Score: 0.7062\n",
      "Epoch 30/50\n",
      "45551/45551 [==============================] - 1s 30us/step - loss: 0.3036 - f1Score: 0.7805 - val_loss: 0.3878 - val_f1Score: 0.7072\n",
      "Epoch 31/50\n",
      "45551/45551 [==============================] - 1s 32us/step - loss: 0.3020 - f1Score: 0.7836 - val_loss: 0.3878 - val_f1Score: 0.7064\n",
      "Epoch 32/50\n",
      "45551/45551 [==============================] - 1s 30us/step - loss: 0.3004 - f1Score: 0.7846 - val_loss: 0.3877 - val_f1Score: 0.7065\n",
      "Epoch 33/50\n",
      "45551/45551 [==============================] - 1s 31us/step - loss: 0.2989 - f1Score: 0.7831 - val_loss: 0.3877 - val_f1Score: 0.7073\n",
      "Epoch 34/50\n",
      "45551/45551 [==============================] - 1s 30us/step - loss: 0.2975 - f1Score: 0.7858 - val_loss: 0.3877 - val_f1Score: 0.7077\n",
      "Epoch 35/50\n",
      "45551/45551 [==============================] - 1s 31us/step - loss: 0.2961 - f1Score: 0.7866 - val_loss: 0.3878 - val_f1Score: 0.7080\n",
      "Epoch 36/50\n",
      "45551/45551 [==============================] - 1s 29us/step - loss: 0.2948 - f1Score: 0.7885 - val_loss: 0.3878 - val_f1Score: 0.7078\n",
      "Epoch 37/50\n",
      "45551/45551 [==============================] - 1s 31us/step - loss: 0.2935 - f1Score: 0.7899 - val_loss: 0.3878 - val_f1Score: 0.7082\n",
      "Epoch 38/50\n",
      "45551/45551 [==============================] - 1s 31us/step - loss: 0.2922 - f1Score: 0.7907 - val_loss: 0.3878 - val_f1Score: 0.7086\n",
      "Epoch 39/50\n",
      "45551/45551 [==============================] - 1s 32us/step - loss: 0.2910 - f1Score: 0.7924 - val_loss: 0.3879 - val_f1Score: 0.7085\n",
      "Epoch 40/50\n",
      "45551/45551 [==============================] - 1s 30us/step - loss: 0.2898 - f1Score: 0.7927 - val_loss: 0.3879 - val_f1Score: 0.7081\n",
      "Epoch 41/50\n",
      "45551/45551 [==============================] - 1s 29us/step - loss: 0.2887 - f1Score: 0.7918 - val_loss: 0.3880 - val_f1Score: 0.7084\n",
      "Epoch 42/50\n",
      "45551/45551 [==============================] - 1s 29us/step - loss: 0.2876 - f1Score: 0.7940 - val_loss: 0.3881 - val_f1Score: 0.7077\n",
      "Epoch 43/50\n",
      "45551/45551 [==============================] - 1s 29us/step - loss: 0.2865 - f1Score: 0.7918 - val_loss: 0.3882 - val_f1Score: 0.7075\n",
      "Epoch 44/50\n",
      "45551/45551 [==============================] - 1s 30us/step - loss: 0.2854 - f1Score: 0.7972 - val_loss: 0.3883 - val_f1Score: 0.7076\n",
      "Epoch 45/50\n",
      "45551/45551 [==============================] - 1s 30us/step - loss: 0.2844 - f1Score: 0.7967 - val_loss: 0.3884 - val_f1Score: 0.7072\n",
      "Epoch 46/50\n",
      "45551/45551 [==============================] - 1s 30us/step - loss: 0.2835 - f1Score: 0.7978 - val_loss: 0.3885 - val_f1Score: 0.7063\n",
      "Epoch 47/50\n",
      "45551/45551 [==============================] - 1s 31us/step - loss: 0.2825 - f1Score: 0.7981 - val_loss: 0.3887 - val_f1Score: 0.7060\n",
      "Epoch 48/50\n",
      "45551/45551 [==============================] - 1s 30us/step - loss: 0.2816 - f1Score: 0.7983 - val_loss: 0.3888 - val_f1Score: 0.7057\n",
      "Epoch 49/50\n",
      "45551/45551 [==============================] - 1s 33us/step - loss: 0.2807 - f1Score: 0.7999 - val_loss: 0.3890 - val_f1Score: 0.7057\n",
      "Epoch 50/50\n",
      "45551/45551 [==============================] - 1s 30us/step - loss: 0.2799 - f1Score: 0.8002 - val_loss: 0.3892 - val_f1Score: 0.7055\n"
     ]
    }
   ],
   "source": [
    "mom = optimizers.SGD(lr=0.0001, decay=0, momentum=0.9, nesterov=True)\n",
    "model.compile(loss = 'binary_crossentropy',metrics=[f1Score],optimizer = mom)\n",
    "history = model.fit(new_data[0].loc[:,'cat':'mean'],new_data[0]['target'],epochs = 50,batch_size=32, \n",
    "                     validation_data =(new_data[1].loc[:,'cat':'mean'],new_data[1]['target']))"
   ]
  },
  {
   "cell_type": "code",
   "execution_count": 25,
   "metadata": {},
   "outputs": [
    {
     "data": {
      "image/png": "[encoded data removed]",
      "text/plain": [
       "<Figure size 432x288 with 1 Axes>"
      ]
     },
     "metadata": {
      "needs_background": "light"
     },
     "output_type": "display_data"
    },
    {
     "data": {
      "image/png": "[encoded data removed]",
      "text/plain": [
       "<Figure size 432x288 with 1 Axes>"
      ]
     },
     "metadata": {
      "needs_background": "light"
     },
     "output_type": "display_data"
    }
   ],
   "source": [
    "# Salva treinamento na variável history para visualização\n",
    "history_dict = history.history\n",
    "# Salva custos, métricas e epocas em vetores\n",
    "custo = history_dict['loss']\n",
    "metrica = history_dict['f1Score']\n",
    "val_custo = history_dict['val_loss']\n",
    "val_metrica = history_dict['val_f1Score']\n",
    "# Cria vetor de épocas\n",
    "epocas = range(1, len(custo) + 1)\n",
    "# Gráfico dos valores de custo\n",
    "plt.plot(epocas, custo, 'b', label='Custo - treinamento',color = 'red')\n",
    "plt.plot(epocas, val_custo, 'b', label='Custo - validação')\n",
    "plt.title('Valor da função de custo – treinamento e validação')\n",
    "plt.xlabel('Épocas')\n",
    "plt.ylabel('Custo')\n",
    "plt.legend()\n",
    "plt.show()\n",
    "# Gráfico dos valores da métrica\n",
    "plt.plot(epocas, metrica, 'b', label='f1- treinamento',color = 'red')\n",
    "plt.plot(epocas, val_metrica, 'b', label='f1 - validação')\n",
    "plt.title('Valor da métrica – treinamento e validação')\n",
    "plt.xlabel('Épocas')\n",
    "plt.ylabel('Exatidao')\n",
    "plt.legend()\n",
    "plt.show()"
   ]
  },
  {
   "cell_type": "markdown",
   "metadata": {},
   "source": [
    "# Choosing the threshold that maximize the F1score"
   ]
  },
  {
   "cell_type": "code",
   "execution_count": 26,
   "metadata": {},
   "outputs": [],
   "source": [
    "def choosing_threshold(y_true,y_prob,threshold_list):\n",
    "    y_hat = []\n",
    "    precision = []\n",
    "    recall = []\n",
    "    f1 = []\n",
    "    y_h = []\n",
    "    for threshold in threshold_list:\n",
    "        for i in range(len(y_true)):\n",
    "            if y_prob[i]>threshold:\n",
    "                y_hat.append(1)\n",
    "            else:\n",
    "                y_hat.append(0)\n",
    "        precision.append(precision_score(y_true,y_hat))\n",
    "        recall.append(recall_score(y_true,y_hat))\n",
    "        f1.append(f1_score(y_true,y_hat))\n",
    "        y_h.append(y_hat)\n",
    "        y_hat = []\n",
    "    return(precision,recall,f1,y_h)                       "
   ]
  },
  {
   "cell_type": "code",
   "execution_count": 27,
   "metadata": {},
   "outputs": [
    {
     "ename": "ValueError",
     "evalue": "Error when checking input: expected dense_1_input to have shape (5,) but got array with shape (3,)",
     "output_type": "error",
     "traceback": [
      "\u001b[0;31m---------------------------------------------------------------------------\u001b[0m",
      "\u001b[0;31mValueError\u001b[0m                                Traceback (most recent call last)",
      "\u001b[0;32m<ipython-input-27-656586ce7178>\u001b[0m in \u001b[0;36m<module>\u001b[0;34m\u001b[0m\n\u001b[1;32m      1\u001b[0m precision,recall,f1,yprob = choosing_threshold(new_data[1]['target'],\n\u001b[0;32m----> 2\u001b[0;31m                                                \u001b[0mmodel\u001b[0m\u001b[0;34m.\u001b[0m\u001b[0mpredict\u001b[0m\u001b[0;34m(\u001b[0m\u001b[0mnew_data\u001b[0m\u001b[0;34m[\u001b[0m\u001b[0;36m1\u001b[0m\u001b[0;34m]\u001b[0m\u001b[0;34m.\u001b[0m\u001b[0mloc\u001b[0m\u001b[0;34m[\u001b[0m\u001b[0;34m:\u001b[0m\u001b[0;34m,\u001b[0m\u001b[0;34m'cat'\u001b[0m\u001b[0;34m:\u001b[0m\u001b[0;34m'rna'\u001b[0m\u001b[0;34m]\u001b[0m\u001b[0;34m)\u001b[0m\u001b[0;34m\u001b[0m\u001b[0;34m\u001b[0m\u001b[0m\n\u001b[0m\u001b[1;32m      3\u001b[0m                                                               ,np.arange(0,1,0.01))\n",
      "\u001b[0;32m/usr/local/lib/python3.7/dist-packages/keras/engine/training.py\u001b[0m in \u001b[0;36mpredict\u001b[0;34m(self, x, batch_size, verbose, steps)\u001b[0m\n\u001b[1;32m   1147\u001b[0m                              'argument.')\n\u001b[1;32m   1148\u001b[0m         \u001b[0;31m# Validate user data.\u001b[0m\u001b[0;34m\u001b[0m\u001b[0;34m\u001b[0m\u001b[0;34m\u001b[0m\u001b[0m\n\u001b[0;32m-> 1149\u001b[0;31m         \u001b[0mx\u001b[0m\u001b[0;34m,\u001b[0m \u001b[0m_\u001b[0m\u001b[0;34m,\u001b[0m \u001b[0m_\u001b[0m \u001b[0;34m=\u001b[0m \u001b[0mself\u001b[0m\u001b[0;34m.\u001b[0m\u001b[0m_standardize_user_data\u001b[0m\u001b[0;34m(\u001b[0m\u001b[0mx\u001b[0m\u001b[0;34m)\u001b[0m\u001b[0;34m\u001b[0m\u001b[0;34m\u001b[0m\u001b[0m\n\u001b[0m\u001b[1;32m   1150\u001b[0m         \u001b[0;32mif\u001b[0m \u001b[0mself\u001b[0m\u001b[0;34m.\u001b[0m\u001b[0mstateful\u001b[0m\u001b[0;34m:\u001b[0m\u001b[0;34m\u001b[0m\u001b[0;34m\u001b[0m\u001b[0m\n\u001b[1;32m   1151\u001b[0m             \u001b[0;32mif\u001b[0m \u001b[0mx\u001b[0m\u001b[0;34m[\u001b[0m\u001b[0;36m0\u001b[0m\u001b[0;34m]\u001b[0m\u001b[0;34m.\u001b[0m\u001b[0mshape\u001b[0m\u001b[0;34m[\u001b[0m\u001b[0;36m0\u001b[0m\u001b[0;34m]\u001b[0m \u001b[0;34m>\u001b[0m \u001b[0mbatch_size\u001b[0m \u001b[0;32mand\u001b[0m \u001b[0mx\u001b[0m\u001b[0;34m[\u001b[0m\u001b[0;36m0\u001b[0m\u001b[0;34m]\u001b[0m\u001b[0;34m.\u001b[0m\u001b[0mshape\u001b[0m\u001b[0;34m[\u001b[0m\u001b[0;36m0\u001b[0m\u001b[0;34m]\u001b[0m \u001b[0;34m%\u001b[0m \u001b[0mbatch_size\u001b[0m \u001b[0;34m!=\u001b[0m \u001b[0;36m0\u001b[0m\u001b[0;34m:\u001b[0m\u001b[0;34m\u001b[0m\u001b[0;34m\u001b[0m\u001b[0m\n",
      "\u001b[0;32m/usr/local/lib/python3.7/dist-packages/keras/engine/training.py\u001b[0m in \u001b[0;36m_standardize_user_data\u001b[0;34m(self, x, y, sample_weight, class_weight, check_array_lengths, batch_size)\u001b[0m\n\u001b[1;32m    749\u001b[0m             \u001b[0mfeed_input_shapes\u001b[0m\u001b[0;34m,\u001b[0m\u001b[0;34m\u001b[0m\u001b[0;34m\u001b[0m\u001b[0m\n\u001b[1;32m    750\u001b[0m             \u001b[0mcheck_batch_axis\u001b[0m\u001b[0;34m=\u001b[0m\u001b[0;32mFalse\u001b[0m\u001b[0;34m,\u001b[0m  \u001b[0;31m# Don't enforce the batch size.\u001b[0m\u001b[0;34m\u001b[0m\u001b[0;34m\u001b[0m\u001b[0m\n\u001b[0;32m--> 751\u001b[0;31m             exception_prefix='input')\n\u001b[0m\u001b[1;32m    752\u001b[0m \u001b[0;34m\u001b[0m\u001b[0m\n\u001b[1;32m    753\u001b[0m         \u001b[0;32mif\u001b[0m \u001b[0my\u001b[0m \u001b[0;32mis\u001b[0m \u001b[0;32mnot\u001b[0m \u001b[0;32mNone\u001b[0m\u001b[0;34m:\u001b[0m\u001b[0;34m\u001b[0m\u001b[0;34m\u001b[0m\u001b[0m\n",
      "\u001b[0;32m/usr/local/lib/python3.7/dist-packages/keras/engine/training_utils.py\u001b[0m in \u001b[0;36mstandardize_input_data\u001b[0;34m(data, names, shapes, check_batch_axis, exception_prefix)\u001b[0m\n\u001b[1;32m    136\u001b[0m                             \u001b[0;34m': expected '\u001b[0m \u001b[0;34m+\u001b[0m \u001b[0mnames\u001b[0m\u001b[0;34m[\u001b[0m\u001b[0mi\u001b[0m\u001b[0;34m]\u001b[0m \u001b[0;34m+\u001b[0m \u001b[0;34m' to have shape '\u001b[0m \u001b[0;34m+\u001b[0m\u001b[0;34m\u001b[0m\u001b[0;34m\u001b[0m\u001b[0m\n\u001b[1;32m    137\u001b[0m                             \u001b[0mstr\u001b[0m\u001b[0;34m(\u001b[0m\u001b[0mshape\u001b[0m\u001b[0;34m)\u001b[0m \u001b[0;34m+\u001b[0m \u001b[0;34m' but got array with shape '\u001b[0m \u001b[0;34m+\u001b[0m\u001b[0;34m\u001b[0m\u001b[0;34m\u001b[0m\u001b[0m\n\u001b[0;32m--> 138\u001b[0;31m                             str(data_shape))\n\u001b[0m\u001b[1;32m    139\u001b[0m     \u001b[0;32mreturn\u001b[0m \u001b[0mdata\u001b[0m\u001b[0;34m\u001b[0m\u001b[0;34m\u001b[0m\u001b[0m\n\u001b[1;32m    140\u001b[0m \u001b[0;34m\u001b[0m\u001b[0m\n",
      "\u001b[0;31mValueError\u001b[0m: Error when checking input: expected dense_1_input to have shape (5,) but got array with shape (3,)"
     ]
    }
   ],
   "source": [
    "precision,recall,f1,yprob = choosing_threshold(new_data[1]['target'],\n",
    "                                               model.predict(new_data[1].loc[:,'cat':'rna'])\n",
    "                                                              ,np.arange(0,1,0.01))"
   ]
  },
  {
   "cell_type": "code",
   "execution_count": null,
   "metadata": {},
   "outputs": [],
   "source": [
    "max(f1)"
   ]
  },
  {
   "cell_type": "code",
   "execution_count": null,
   "metadata": {},
   "outputs": [],
   "source": [
    "for i in range(len(yprob)):\n",
    "    plot_confusion_matrix(new_data[1]['target'].astype(int), yprob[i],\n",
    "                          classes = np.array([['Honest'],['Fraud']]),\n",
    "                          normalize=True,\n",
    "                          title= f1[i],\n",
    "                          cmap=plt.cm.Blues)"
   ]
  },
  {
   "cell_type": "code",
   "execution_count": null,
   "metadata": {},
   "outputs": [],
   "source": []
  }
 ],
 "metadata": {
  "accelerator": "TPU",
  "colab": {
   "collapsed_sections": [
    "dEBZeH7uprtk",
    "hpfUA7GiblOx",
    "zp6auX0Wprtx",
    "jW18IZo7czA7",
    "c55fXXr4pruR",
    "B8QnWKTdfxVq"
   ],
   "name": "System.ipynb",
   "provenance": [],
   "toc_visible": true,
   "version": "0.3.2"
  },
  "kernelspec": {
   "display_name": "Python 3",
   "language": "python",
   "name": "python3"
  },
  "language_info": {
   "codemirror_mode": {
    "name": "ipython",
    "version": 3
   },
   "file_extension": ".py",
   "mimetype": "text/x-python",
   "name": "python",
   "nbconvert_exporter": "python",
   "pygments_lexer": "ipython3",
   "version": "3.7.3"
  }
 },
 "nbformat": 4,
 "nbformat_minor": 1
}
