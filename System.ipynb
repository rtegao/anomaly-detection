{
 "cells": [
  {
   "cell_type": "code",
   "execution_count": 1,
   "metadata": {},
   "outputs": [
    {
     "name": "stderr",
     "output_type": "stream",
     "text": [
      "Using TensorFlow backend.\n"
     ]
    }
   ],
   "source": [
    "import pandas as pd\n",
    "import numpy as np\n",
    "import matplotlib.pyplot as plt\n",
    "from sklearn.metrics import f1_score\n",
    "from sklearn.metrics import confusion_matrix\n",
    "from sklearn.model_selection import train_test_split\n",
    "from sklearn.preprocessing import StandardScaler\n",
    "from sklearn.metrics import f1_score\n",
    "from sklearn.metrics import confusion_matrix\n",
    "from collections import Counter\n",
    "import seaborn as sns\n",
    "from sklearn.metrics import roc_curve,auc\n",
    "\n",
    "import keras\n",
    "from keras import models\n",
    "from keras import layers\n",
    "import tensorflow as tf\n",
    "from keras.backend import binary_crossentropy\n",
    "from keras import backend as K\n",
    "from keras.callbacks import Callback\n",
    "from keras import optimizers\n",
    "from keras.backend import mean\n",
    "from keras import regularizers\n",
    "from keras.layers import Dropout\n",
    "from keras.layers import BatchNormalization\n",
    "\n",
    "import warnings\n",
    "warnings.filterwarnings('ignore')"
   ]
  },
  {
   "cell_type": "code",
   "execution_count": 2,
   "metadata": {},
   "outputs": [
    {
     "name": "stderr",
     "output_type": "stream",
     "text": [
      "WARNING: Logging before flag parsing goes to stderr.\n",
      "W0901 22:56:47.913790 140286681581376 deprecation_wrapper.py:119] From /usr/local/lib/python3.7/dist-packages/keras/backend/tensorflow_backend.py:95: The name tf.reset_default_graph is deprecated. Please use tf.compat.v1.reset_default_graph instead.\n",
      "\n",
      "W0901 22:56:47.915509 140286681581376 deprecation_wrapper.py:119] From /usr/local/lib/python3.7/dist-packages/keras/backend/tensorflow_backend.py:98: The name tf.placeholder_with_default is deprecated. Please use tf.compat.v1.placeholder_with_default instead.\n",
      "\n",
      "W0901 22:56:47.926423 140286681581376 deprecation_wrapper.py:119] From /usr/local/lib/python3.7/dist-packages/keras/backend/tensorflow_backend.py:102: The name tf.get_default_graph is deprecated. Please use tf.compat.v1.get_default_graph instead.\n",
      "\n"
     ]
    }
   ],
   "source": [
    "config = tf.ConfigProto()\n",
    "config.gpu_options.allow_growth = True\n",
    "session = tf.Session(config=config)\n",
    "K.clear_session()"
   ]
  },
  {
   "cell_type": "code",
   "execution_count": 3,
   "metadata": {},
   "outputs": [],
   "source": [
    "df = pd.read_csv('train.csv', sep = ',')\n",
    "X = df.loc[:,'var_0':'var_199']\n",
    "Y = df.loc[:,'target']"
   ]
  },
  {
   "cell_type": "code",
   "execution_count": 4,
   "metadata": {},
   "outputs": [],
   "source": [
    "meanX = X.mean(axis = 0)\n",
    "stdX = X.std(axis = 0)\n",
    "X_norm = (X-meanX)/stdX"
   ]
  },
  {
   "cell_type": "code",
   "execution_count": 5,
   "metadata": {},
   "outputs": [],
   "source": [
    "fraud_index = np.where(Y==1)\n",
    "honest_index = np.where(Y==0)\n",
    "fraud = X_norm.loc[fraud_index]\n",
    "honest = X_norm.loc[honest_index]\n",
    "\n",
    "yh = Y.loc[honest_index]\n",
    "yf = Y.loc[fraud_index]"
   ]
  },
  {
   "cell_type": "code",
   "execution_count": 6,
   "metadata": {},
   "outputs": [],
   "source": [
    "h_used, x_trash, yh, y_trash = train_test_split(honest, yh, test_size = 0.75, random_state = 30)\n",
    "x_used = pd.concat([h_used,fraud],ignore_index = False)\n",
    "y_used = pd.concat([yh,yf],ignore_index=False)\n",
    "x_train,x_test,y_train,y_test = train_test_split(x_used,y_used,test_size=0.3,random_state = 30)\n",
    "x_val,x_test,y_val,y_test = train_test_split(x_test,y_test,test_size=0.5,random_state = 30)"
   ]
  },
  {
   "cell_type": "code",
   "execution_count": 7,
   "metadata": {},
   "outputs": [],
   "source": [
    "x_data = [x_train,x_val,x_test]\n",
    "y_data = [y_train,y_val,y_test]"
   ]
  },
  {
   "cell_type": "code",
   "execution_count": 8,
   "metadata": {},
   "outputs": [],
   "source": [
    "def f1(y_true, y_pred):\n",
    "    def recall(y_true, y_pred):\n",
    "        \"\"\"Recall metric.\n",
    "\n",
    "        Only computes a batch-wise average of recall.\n",
    "\n",
    "        Computes the recall, a metric for multi-label classification of\n",
    "        how many relevant items are selected.\n",
    "        \"\"\"\n",
    "        true_positives = K.sum(K.round(K.clip(y_true * y_pred, 0, 1)))\n",
    "        possible_positives = K.sum(K.round(K.clip(y_true, 0, 1)))\n",
    "        recall = true_positives / (possible_positives + K.epsilon())\n",
    "        return recall\n",
    "\n",
    "    def precision(y_true, y_pred):\n",
    "        \"\"\"Precision metric.\n",
    "\n",
    "        Only computes a batch-wise average of precision.\n",
    "\n",
    "        Computes the precision, a metric for multi-label classification of\n",
    "        how many selected items are relevant.\n",
    "        \"\"\"\n",
    "        true_positives = K.sum(K.round(K.clip(y_true * y_pred, 0, 1)))\n",
    "        predicted_positives = K.sum(K.round(K.clip(y_pred, 0, 1)))\n",
    "        precision = true_positives / (predicted_positives + K.epsilon())\n",
    "        return precision\n",
    "    precision = precision(y_true, y_pred)\n",
    "    recall = recall(y_true, y_pred)\n",
    "    return 2*((precision*recall)/(precision+recall+K.epsilon()))"
   ]
  },
  {
   "cell_type": "code",
   "execution_count": 9,
   "metadata": {},
   "outputs": [],
   "source": [
    "from sklearn.utils.multiclass import unique_labels\n",
    "from sklearn.metrics import confusion_matrix\n",
    "def plot_confusion_matrix(y_true, y_pred, classes,\n",
    "                          normalize=False,\n",
    "                          title=None,\n",
    "                          cmap=plt.cm.Blues):\n",
    "    \"\"\"\n",
    "    This function prints and plots the confusion matrix.\n",
    "    Normalization can be applied by setting `normalize=True`.\n",
    "    \"\"\"\n",
    "    if not title:\n",
    "        if normalize:\n",
    "            title = 'Normalized confusion matrix'\n",
    "        else:\n",
    "            title = 'Confusion matrix, without normalization'\n",
    "\n",
    "    # Compute confusion matrix\n",
    "    cm = confusion_matrix(y_true, y_pred)\n",
    "    # Only use the labels that appear in the data\n",
    "    classes = classes[unique_labels(y_true, y_pred)]\n",
    "    if normalize:\n",
    "        cm = cm.astype('float') / cm.sum(axis=1)[:, np.newaxis]\n",
    "        print(\"Normalized confusion matrix\")\n",
    "    else:\n",
    "        print('Confusion matrix, without normalization')\n",
    "\n",
    "    print(cm)\n",
    "\n",
    "    fig, ax = plt.subplots()\n",
    "    im = ax.imshow(cm, interpolation='nearest', cmap=cmap)\n",
    "    ax.figure.colorbar(im, ax=ax)\n",
    "    # We want to show all ticks...\n",
    "    ax.set(xticks=np.arange(cm.shape[1]),\n",
    "           yticks=np.arange(cm.shape[0]),\n",
    "           # ... and label them with the respective list entries\n",
    "           xticklabels=classes, yticklabels=classes,\n",
    "           title=title,\n",
    "           ylabel='True label',\n",
    "           xlabel='Predicted label')\n",
    "\n",
    "    # Rotate the tick labels and set their alignment.\n",
    "    plt.setp(ax.get_xticklabels(), rotation=45, ha=\"right\",\n",
    "             rotation_mode=\"anchor\")\n",
    "\n",
    "    # Loop over data dimensions and create text annotations.\n",
    "    fmt = '.2f' if normalize else 'd'\n",
    "    thresh = cm.max() / 2.\n",
    "    for i in range(cm.shape[0]):\n",
    "        for j in range(cm.shape[1]):\n",
    "            ax.text(j, i, format(cm[i, j], fmt),\n",
    "                    ha=\"center\", va=\"center\",\n",
    "                    color=\"white\" if cm[i, j] > thresh else \"black\")\n",
    "    fig.tight_layout()\n",
    "    return ax"
   ]
  },
  {
   "cell_type": "code",
   "execution_count": 10,
   "metadata": {},
   "outputs": [
    {
     "name": "stderr",
     "output_type": "stream",
     "text": [
      "W0901 22:56:58.426790 140286681581376 deprecation_wrapper.py:119] From /usr/local/lib/python3.7/dist-packages/keras/backend/tensorflow_backend.py:517: The name tf.placeholder is deprecated. Please use tf.compat.v1.placeholder instead.\n",
      "\n",
      "W0901 22:56:58.430804 140286681581376 deprecation_wrapper.py:119] From /usr/local/lib/python3.7/dist-packages/keras/backend/tensorflow_backend.py:4138: The name tf.random_uniform is deprecated. Please use tf.random.uniform instead.\n",
      "\n",
      "W0901 22:56:58.476993 140286681581376 deprecation.py:506] From /usr/local/lib/python3.7/dist-packages/keras/backend/tensorflow_backend.py:3445: calling dropout (from tensorflow.python.ops.nn_ops) with keep_prob is deprecated and will be removed in a future version.\n",
      "Instructions for updating:\n",
      "Please use `rate` instead of `keep_prob`. Rate should be set to `rate = 1 - keep_prob`.\n",
      "W0901 22:56:59.224785 140286681581376 deprecation_wrapper.py:119] From /usr/local/lib/python3.7/dist-packages/keras/optimizers.py:790: The name tf.train.Optimizer is deprecated. Please use tf.compat.v1.train.Optimizer instead.\n",
      "\n",
      "W0901 22:56:59.236886 140286681581376 deprecation.py:323] From /usr/local/lib/python3.7/dist-packages/tensorflow/python/ops/nn_impl.py:180: add_dispatch_support.<locals>.wrapper (from tensorflow.python.ops.array_ops) is deprecated and will be removed in a future version.\n",
      "Instructions for updating:\n",
      "Use tf.where in 2.0, which has the same broadcast rule as np.where\n"
     ]
    }
   ],
   "source": [
    "from keras.models import load_model\n",
    "model3 = load_model('RNA3_elim.h5', custom_objects={'f1': f1})\n",
    "model5 = load_model('RNA5_elim.h5', custom_objects={'f1': f1})\n",
    "model1 = load_model('RNA1_elim.h5', custom_objects={'f1': f1})\n",
    "model= load_model('model_newData.h5', custom_objects={'f1': f1})"
   ]
  },
  {
   "cell_type": "markdown",
   "metadata": {},
   "source": [
    "# Model 3"
   ]
  },
  {
   "cell_type": "code",
   "execution_count": 11,
   "metadata": {},
   "outputs": [],
   "source": [
    "y_train_prob = np.ravel(model3.predict(x_train))\n",
    "y_val_prob = np.ravel(model3.predict(x_val))\n",
    "y_test_prob = np.ravel(model3.predict(x_test))\n",
    "\n",
    "y_prob_m3 = [y_train_prob,y_val_prob,y_test_prob]"
   ]
  },
  {
   "cell_type": "code",
   "execution_count": 12,
   "metadata": {},
   "outputs": [],
   "source": [
    "threshold = 0.9\n",
    "y_hat_m3 = []\n",
    "aux = []\n",
    "for j in range(len(y_prob_m3)):\n",
    "    for i in range(len(y_prob_m3[j])):\n",
    "        if y_prob_m3[j][i] > threshold:\n",
    "            aux.append(1)\n",
    "        else:\n",
    "            aux.append(0)\n",
    "    aux = np.asarray(aux)\n",
    "    y_hat_m3.append(aux)\n",
    "    aux = []\n",
    "y_hat_m3 = np.asarray(y_hat_m3)\n",
    "y_prob_m3 = np.asarray(y_prob_m3)"
   ]
  },
  {
   "cell_type": "markdown",
   "metadata": {},
   "source": [
    "# Model5"
   ]
  },
  {
   "cell_type": "code",
   "execution_count": 13,
   "metadata": {},
   "outputs": [
    {
     "data": {
      "text/plain": [
       "<matplotlib.axes._subplots.AxesSubplot at 0x7f9644c9c160>"
      ]
     },
     "execution_count": 13,
     "metadata": {},
     "output_type": "execute_result"
    },
    {
     "data": {
      "image/png": "[encoded data removed]",
      "text/plain": [
       "<Figure size 432x288 with 1 Axes>"
      ]
     },
     "metadata": {
      "needs_background": "light"
     },
     "output_type": "display_data"
    }
   ],
   "source": [
    "y_train_prob = np.ravel(model5.predict(x_train))\n",
    "index0 = np.ravel(np.where(y_data[0] == 0 ))\n",
    "index1= np.ravel(np.where(y_data[0] == 1))\n",
    "sns.distplot(y_train_prob[index0])\n",
    "sns.distplot(y_train_prob[index1])"
   ]
  },
  {
   "cell_type": "code",
   "execution_count": 14,
   "metadata": {},
   "outputs": [
    {
     "data": {
      "text/plain": [
       "[<matplotlib.lines.Line2D at 0x7f96441a6550>]"
      ]
     },
     "execution_count": 14,
     "metadata": {},
     "output_type": "execute_result"
    },
    {
     "data": {
      "image/png": "[encoded data removed]",
      "text/plain": [
       "<Figure size 432x288 with 1 Axes>"
      ]
     },
     "metadata": {
      "needs_background": "light"
     },
     "output_type": "display_data"
    }
   ],
   "source": [
    "aux = []\n",
    "score = []\n",
    "treshold_list = []\n",
    "\n",
    "for i in np.arange(0,1,0.01):\n",
    "    for j in range(len(y_train_prob)):\n",
    "        if y_train_prob[j]>i:\n",
    "            aux.append(1)\n",
    "        else:\n",
    "            aux.append(0)\n",
    "    treshold_list.append(i)\n",
    "    score.append(f1_score(y_data[0],aux))\n",
    "    aux = []\n",
    "plt.plot(treshold_list,score)"
   ]
  },
  {
   "cell_type": "code",
   "execution_count": 15,
   "metadata": {},
   "outputs": [
    {
     "data": {
      "image/png": "[encoded data removed]",
      "text/plain": [
       "<Figure size 432x288 with 1 Axes>"
      ]
     },
     "metadata": {
      "needs_background": "light"
     },
     "output_type": "display_data"
    }
   ],
   "source": [
    "_max = max(score)\n",
    "max_index = score.index(_max)\n",
    "threshold = max_index*0.01\n",
    "\n",
    "\n",
    "fpr_keras, tpr_keras, thresholds_keras = roc_curve(y_data[0],y_train_prob)\n",
    "auc_keras = auc(fpr_keras, tpr_keras)\n",
    "\n",
    "plt.plot([0, 1], [0, 1], 'k--')\n",
    "plt.plot(fpr_keras, tpr_keras, label='AUC (area = {:.3f})'.format(auc_keras))\n",
    "plt.xlabel('False positive rate')\n",
    "plt.ylabel('True positive rate')\n",
    "plt.title('ROC curve')\n",
    "plt.legend(loc='best')\n",
    "plt.show()"
   ]
  },
  {
   "cell_type": "code",
   "execution_count": 16,
   "metadata": {},
   "outputs": [],
   "source": [
    "y_train_prob = np.ravel(model5.predict(x_train))\n",
    "y_val_prob = np.ravel(model5.predict(x_val))\n",
    "y_test_prob = np.ravel(model5.predict(x_test))\n",
    "\n",
    "y_prob_m5 = [y_train_prob,y_val_prob,y_test_prob]"
   ]
  },
  {
   "cell_type": "code",
   "execution_count": 17,
   "metadata": {},
   "outputs": [],
   "source": [
    "y_hat_m5 = []\n",
    "aux = []\n",
    "for j in range(len(y_prob_m5)):\n",
    "    for i in range(len(y_prob_m5[j])):\n",
    "        if y_prob_m5[j][i] > threshold:\n",
    "            aux.append(1)\n",
    "        else:\n",
    "            aux.append(0)\n",
    "    aux = np.asarray(aux)\n",
    "    y_hat_m5.append(aux)\n",
    "    aux = []\n",
    "y_hat_m5 = np.asarray(y_hat_m5)\n",
    "y_prob_m5 = np.asarray(y_prob_m5)"
   ]
  },
  {
   "cell_type": "markdown",
   "metadata": {},
   "source": [
    "# Model 1"
   ]
  },
  {
   "cell_type": "code",
   "execution_count": 18,
   "metadata": {},
   "outputs": [],
   "source": [
    "y_train_prob = np.ravel(model1.predict(x_train))\n",
    "y_val_prob = np.ravel(model1.predict(x_val))\n",
    "y_test_prob = np.ravel(model1.predict(x_test))\n",
    "\n",
    "y_prob_m1 = [y_train_prob,y_val_prob,y_test_prob]"
   ]
  },
  {
   "cell_type": "code",
   "execution_count": 19,
   "metadata": {},
   "outputs": [],
   "source": [
    "threshold = 0.02\n",
    "y_hat_m1 = []\n",
    "aux = []\n",
    "for j in range(len(y_prob_m1)):\n",
    "    for i in range(len(y_prob_m1[j])):\n",
    "        if y_prob_m1[j][i] > threshold:\n",
    "            aux.append(1)\n",
    "        else:\n",
    "            aux.append(0)\n",
    "    aux = np.asarray(aux)\n",
    "    y_hat_m1.append(aux)\n",
    "    aux = []\n",
    "y_hat_m1 = np.asarray(y_hat_m1)\n",
    "y_prob_m1 = np.asarray(y_prob_m1)"
   ]
  },
  {
   "cell_type": "markdown",
   "metadata": {},
   "source": [
    "# Creating new DataFrames, Input to the Final Model"
   ]
  },
  {
   "cell_type": "code",
   "execution_count": 20,
   "metadata": {},
   "outputs": [],
   "source": [
    "data2 = [np.vstack((y_hat_m3[0],y_prob_m3[0],y_hat_m5[0],y_prob_m5[0],y_hat_m1[0],y_prob_m1[0])).T,\n",
    "         np.vstack((y_hat_m3[1],y_prob_m3[1],y_hat_m5[1],y_prob_m5[1],y_hat_m1[1],y_prob_m1[1])).T,\n",
    "         np.vstack((y_hat_m3[2],y_prob_m3[2],y_hat_m5[2],y_prob_m5[2],y_hat_m1[2],y_prob_m1[2])).T] \n",
    "\n",
    "_layers = [y_train,y_val,y_test]"
   ]
  },
  {
   "cell_type": "code",
   "execution_count": 21,
   "metadata": {},
   "outputs": [],
   "source": [
    "new_data = []\n",
    "average = []\n",
    "p0 = []\n",
    "p1 = []\n",
    "for i in range(len(data2)):\n",
    "    aux =  pd.DataFrame(data = data2[i], columns = ['hat_m3','prob_m3','hat_m5','prob_m5','hat_m1','prob_m1'])\n",
    "    average = pd.DataFrame(aux.iloc[:,[1,3,5]].mean(axis = 1, skipna = True),columns=['mean'])\n",
    "    aux = aux.join(average.reset_index(drop=True)) \n",
    "    aux = aux.join(_layers[i].reset_index(drop=True))\n",
    "    aux['id'] = aux.index\n",
    "    aux.set_index('id',inplace = True)\n",
    "    p0.append(aux.loc[(aux['hat_m3']==0) & (aux['hat_m5']==0) & (aux['hat_m1'] ==0)])\n",
    "    p1.append(aux.loc[(aux['hat_m3']==1) & (aux['hat_m5']==1) & (aux['hat_m1'] ==1)])\n",
    "    aux =  aux.drop(p0[i].index)\n",
    "    aux =  aux.drop(p1[i].index)\n",
    "    new_data.append(aux)"
   ]
  },
  {
   "cell_type": "markdown",
   "metadata": {},
   "source": [
    "### Pegando as repostas do modelo 3 para os dados P0"
   ]
  },
  {
   "cell_type": "code",
   "execution_count": 22,
   "metadata": {},
   "outputs": [],
   "source": [
    "aux_prob = []\n",
    "hat_p0 = []\n",
    "prob_p0 = []\n",
    "aux_hat = []\n",
    "for i in range(len(p0)):\n",
    "    for j in p0[i].index:\n",
    "        aux_prob.append(y_prob_m3[i][j])\n",
    "        aux_hat.append(y_hat_m3[i][j])\n",
    "    prob_p0.append(aux_prob)\n",
    "    hat_p0.append(aux_hat)\n",
    "    aux_prob = []\n",
    "    aux_hat = []"
   ]
  },
  {
   "cell_type": "markdown",
   "metadata": {},
   "source": [
    "### Pegando as repostas do modelo 5 para os dados P1"
   ]
  },
  {
   "cell_type": "code",
   "execution_count": 23,
   "metadata": {},
   "outputs": [],
   "source": [
    "aux_prob= []\n",
    "hat_p1 = []\n",
    "prob_p1 = []\n",
    "aux_hat = []\n",
    "for i in range(len(p1)):\n",
    "    for j in p1[i].index:\n",
    "        aux_prob.append(y_prob_m1[i][j])\n",
    "        aux_hat.append(y_hat_m1[i][j])\n",
    "    prob_p1.append(aux_prob)\n",
    "    hat_p1.append(aux_hat)\n",
    "    aux_prob = []\n",
    "    aux_hat = []"
   ]
  },
  {
   "cell_type": "markdown",
   "metadata": {},
   "source": [
    "### Para os casos fora de P0 e P1, iremos passar por uma quarta rede "
   ]
  },
  {
   "cell_type": "code",
   "execution_count": 24,
   "metadata": {},
   "outputs": [
    {
     "data": {
      "text/plain": [
       "<matplotlib.axes._subplots.AxesSubplot at 0x7f96440cd9e8>"
      ]
     },
     "execution_count": 24,
     "metadata": {},
     "output_type": "execute_result"
    },
    {
     "data": {
      "image/png": "[encoded data removed]",
      "text/plain": [
       "<Figure size 432x288 with 1 Axes>"
      ]
     },
     "metadata": {
      "needs_background": "light"
     },
     "output_type": "display_data"
    }
   ],
   "source": [
    "y_train_prob = np.ravel(model.predict(new_data[0].loc[:,'hat_m3':'mean']))\n",
    "index0 = np.ravel(np.where(new_data[0].loc[:,'target'] == 0 ))\n",
    "index1= np.ravel(np.where(new_data[0].loc[:,'target']  == 1))\n",
    "sns.distplot(y_train_prob[index0])\n",
    "sns.distplot(y_train_prob[index1])"
   ]
  },
  {
   "cell_type": "code",
   "execution_count": 25,
   "metadata": {},
   "outputs": [
    {
     "data": {
      "image/png": "[encoded data removed]",
      "text/plain": [
       "<Figure size 432x288 with 1 Axes>"
      ]
     },
     "metadata": {
      "needs_background": "light"
     },
     "output_type": "display_data"
    }
   ],
   "source": [
    "aux = []\n",
    "score = []\n",
    "treshold_list = []\n",
    "\n",
    "for i in np.arange(0,1,0.01):\n",
    "    for j in range(len(y_train_prob)):\n",
    "        if y_train_prob[j]>i:\n",
    "            aux.append(1)\n",
    "        else:\n",
    "            aux.append(0)\n",
    "    treshold_list.append(i)\n",
    "    score.append(f1_score(new_data[0].loc[:,'target'],aux))\n",
    "    aux = []\n",
    "\n",
    "plt.plot(treshold_list,score)\n",
    "\n",
    "y_val_prob = np.ravel(model.predict(new_data[1].loc[:,'hat_m3':'mean']))\n",
    "y_test_prob = np.ravel(model.predict(new_data[2].loc[:,'hat_m3':'mean']))\n",
    "\n",
    "y_prob = [y_train_prob,y_val_prob,y_test_prob]"
   ]
  },
  {
   "cell_type": "code",
   "execution_count": 26,
   "metadata": {},
   "outputs": [
    {
     "data": {
      "image/png": "[encoded data removed]",
      "text/plain": [
       "<Figure size 432x288 with 1 Axes>"
      ]
     },
     "metadata": {
      "needs_background": "light"
     },
     "output_type": "display_data"
    }
   ],
   "source": [
    "_max = max(score)\n",
    "max_index = score.index(_max)\n",
    "threshold = max_index*0.01\n",
    "\n",
    "\n",
    "fpr_keras, tpr_keras, thresholds_keras = roc_curve(new_data[0].loc[:,'target'],y_train_prob)\n",
    "auc_keras = auc(fpr_keras, tpr_keras)\n",
    "\n",
    "plt.plot([0, 1], [0, 1], 'k--')\n",
    "plt.plot(fpr_keras, tpr_keras, label='AUC (area = {:.3f})'.format(auc_keras))\n",
    "plt.xlabel('False positive rate')\n",
    "plt.ylabel('True positive rate')\n",
    "plt.title('ROC curve')\n",
    "plt.legend(loc='best')\n",
    "plt.show()"
   ]
  },
  {
   "cell_type": "code",
   "execution_count": 27,
   "metadata": {},
   "outputs": [],
   "source": [
    "y_hat = []\n",
    "aux = []\n",
    "for j in range(len(y_prob)):\n",
    "    for i in range(len(y_prob[j])):\n",
    "        if y_prob[j][i] > threshold:\n",
    "            aux.append(1)\n",
    "        else:\n",
    "            aux.append(0)\n",
    "    aux = np.asarray(aux)\n",
    "    y_hat.append(aux)\n",
    "    aux = []\n",
    "y_hat = np.asarray(y_hat)\n",
    "y_prob = np.asarray(y_prob)"
   ]
  },
  {
   "cell_type": "code",
   "execution_count": 28,
   "metadata": {},
   "outputs": [],
   "source": [
    "for i in range(len(y_prob)):\n",
    "    new_data[i]['prob'] = y_prob[i]\n",
    "    new_data[i]['hat'] = y_hat[i]"
   ]
  },
  {
   "cell_type": "code",
   "execution_count": 29,
   "metadata": {},
   "outputs": [
    {
     "data": {
      "text/html": [
       "<div>\n",
       "<style scoped>\n",
       "    .dataframe tbody tr th:only-of-type {\n",
       "        vertical-align: middle;\n",
       "    }\n",
       "\n",
       "    .dataframe tbody tr th {\n",
       "        vertical-align: top;\n",
       "    }\n",
       "\n",
       "    .dataframe thead th {\n",
       "        text-align: right;\n",
       "    }\n",
       "</style>\n",
       "<table border=\"1\" class=\"dataframe\">\n",
       "  <thead>\n",
       "    <tr style=\"text-align: right;\">\n",
       "      <th></th>\n",
       "      <th>hat_m3</th>\n",
       "      <th>prob_m3</th>\n",
       "      <th>hat_m5</th>\n",
       "      <th>prob_m5</th>\n",
       "      <th>hat_m1</th>\n",
       "      <th>prob_m1</th>\n",
       "      <th>mean</th>\n",
       "      <th>target</th>\n",
       "      <th>prob</th>\n",
       "      <th>hat</th>\n",
       "    </tr>\n",
       "    <tr>\n",
       "      <th>id</th>\n",
       "      <th></th>\n",
       "      <th></th>\n",
       "      <th></th>\n",
       "      <th></th>\n",
       "      <th></th>\n",
       "      <th></th>\n",
       "      <th></th>\n",
       "      <th></th>\n",
       "      <th></th>\n",
       "      <th></th>\n",
       "    </tr>\n",
       "  </thead>\n",
       "  <tbody>\n",
       "    <tr>\n",
       "      <th>0</th>\n",
       "      <td>0.0</td>\n",
       "      <td>0.067238</td>\n",
       "      <td>0.0</td>\n",
       "      <td>0.098672</td>\n",
       "      <td>1.0</td>\n",
       "      <td>0.065888</td>\n",
       "      <td>0.077266</td>\n",
       "      <td>0</td>\n",
       "      <td>0.071033</td>\n",
       "      <td>0</td>\n",
       "    </tr>\n",
       "    <tr>\n",
       "      <th>1</th>\n",
       "      <td>0.0</td>\n",
       "      <td>0.131740</td>\n",
       "      <td>0.0</td>\n",
       "      <td>0.126287</td>\n",
       "      <td>1.0</td>\n",
       "      <td>0.131278</td>\n",
       "      <td>0.129769</td>\n",
       "      <td>0</td>\n",
       "      <td>0.105419</td>\n",
       "      <td>0</td>\n",
       "    </tr>\n",
       "    <tr>\n",
       "      <th>2</th>\n",
       "      <td>0.0</td>\n",
       "      <td>0.281910</td>\n",
       "      <td>0.0</td>\n",
       "      <td>0.322745</td>\n",
       "      <td>1.0</td>\n",
       "      <td>0.293125</td>\n",
       "      <td>0.299260</td>\n",
       "      <td>1</td>\n",
       "      <td>0.285477</td>\n",
       "      <td>0</td>\n",
       "    </tr>\n",
       "    <tr>\n",
       "      <th>4</th>\n",
       "      <td>0.0</td>\n",
       "      <td>0.077893</td>\n",
       "      <td>0.0</td>\n",
       "      <td>0.079033</td>\n",
       "      <td>1.0</td>\n",
       "      <td>0.073392</td>\n",
       "      <td>0.076773</td>\n",
       "      <td>0</td>\n",
       "      <td>0.069004</td>\n",
       "      <td>0</td>\n",
       "    </tr>\n",
       "    <tr>\n",
       "      <th>5</th>\n",
       "      <td>0.0</td>\n",
       "      <td>0.396283</td>\n",
       "      <td>1.0</td>\n",
       "      <td>0.402749</td>\n",
       "      <td>1.0</td>\n",
       "      <td>0.380657</td>\n",
       "      <td>0.393230</td>\n",
       "      <td>1</td>\n",
       "      <td>0.371776</td>\n",
       "      <td>1</td>\n",
       "    </tr>\n",
       "  </tbody>\n",
       "</table>\n",
       "</div>"
      ],
      "text/plain": [
       "    hat_m3   prob_m3  hat_m5   prob_m5  hat_m1   prob_m1      mean  target  \\\n",
       "id                                                                           \n",
       "0      0.0  0.067238     0.0  0.098672     1.0  0.065888  0.077266       0   \n",
       "1      0.0  0.131740     0.0  0.126287     1.0  0.131278  0.129769       0   \n",
       "2      0.0  0.281910     0.0  0.322745     1.0  0.293125  0.299260       1   \n",
       "4      0.0  0.077893     0.0  0.079033     1.0  0.073392  0.076773       0   \n",
       "5      0.0  0.396283     1.0  0.402749     1.0  0.380657  0.393230       1   \n",
       "\n",
       "        prob  hat  \n",
       "id                 \n",
       "0   0.071033    0  \n",
       "1   0.105419    0  \n",
       "2   0.285477    0  \n",
       "4   0.069004    0  \n",
       "5   0.371776    1  "
      ]
     },
     "execution_count": 29,
     "metadata": {},
     "output_type": "execute_result"
    }
   ],
   "source": [
    "new_data[0].head()"
   ]
  },
  {
   "cell_type": "markdown",
   "metadata": {},
   "source": [
    "### Agrupando as respostas das 3 RNN "
   ]
  },
  {
   "cell_type": "code",
   "execution_count": 30,
   "metadata": {
    "scrolled": true
   },
   "outputs": [],
   "source": [
    "prob0_train = pd.DataFrame(prob_p0[0])\n",
    "prob0_train = prob0_train.join(pd.DataFrame(p0[0].index,columns=['id']))\n",
    "prob0_train.set_index('id',inplace = True)\n",
    "prob0_val = pd.DataFrame(prob_p0[1])\n",
    "prob0_val = prob0_val.join(pd.DataFrame(p0[1].index,columns=['id']))\n",
    "prob0_val.set_index('id',inplace = True)\n",
    "prob0_test = pd.DataFrame(prob_p0[2])\n",
    "prob0_test = prob0_test.join(pd.DataFrame(p0[2].index,columns=['id']))\n",
    "prob0_test.set_index('id',inplace = True)\n",
    "\n",
    "prob1_train = pd.DataFrame(prob_p1[0])\n",
    "prob1_train = prob1_train.join(pd.DataFrame(p1[0].index,columns=['id']))\n",
    "prob1_train.set_index('id',inplace = True)\n",
    "prob1_val = pd.DataFrame(prob_p1[1])\n",
    "prob1_val = prob1_val.join(pd.DataFrame(p1[1].index,columns=['id']))\n",
    "prob1_val.set_index('id',inplace = True)\n",
    "prob1_test = pd.DataFrame(prob_p1[2])\n",
    "prob1_test = prob1_test.join(pd.DataFrame(p1[2].index,columns=['id']))\n",
    "prob1_test.set_index('id',inplace = True)\n",
    "\n",
    "hat0_train = pd.DataFrame(hat_p0[0])\n",
    "hat0_train = hat0_train.join(pd.DataFrame(p0[0].index,columns=['id']))\n",
    "hat0_train.set_index('id',inplace = True)\n",
    "hat0_val = pd.DataFrame(hat_p0[1])\n",
    "hat0_val = hat0_val.join(pd.DataFrame(p0[1].index,columns=['id']))\n",
    "hat0_val.set_index('id',inplace = True)\n",
    "hat0_test = pd.DataFrame(hat_p0[2])\n",
    "hat0_test = hat0_test.join(pd.DataFrame(p0[2].index,columns=['id']))\n",
    "hat0_test.set_index('id',inplace = True)\n",
    "\n",
    "hat1_train = pd.DataFrame(hat_p1[0])\n",
    "hat1_train = hat1_train.join(pd.DataFrame(p1[0].index,columns=['id']))\n",
    "hat1_train.set_index('id',inplace = True)\n",
    "hat1_val = pd.DataFrame(hat_p1[1])\n",
    "hat1_val = hat1_val.join(pd.DataFrame(p1[1].index,columns=['id']))\n",
    "hat1_val.set_index('id',inplace = True)\n",
    "hat1_test = pd.DataFrame(hat_p1[2])\n",
    "hat1_test = hat1_test.join(pd.DataFrame(p1[2].index,columns=['id']))\n",
    "hat1_test.set_index('id',inplace = True)"
   ]
  },
  {
   "cell_type": "code",
   "execution_count": 31,
   "metadata": {},
   "outputs": [],
   "source": [
    "prob_train = pd.concat([prob0_train,prob1_train],axis=0)\n",
    "prob_train = prob_train.sort_values(by ='id',axis = 0)\n",
    "prob_train.columns = ['prob']\n",
    "prob_val = pd.concat([prob0_val,prob1_val],axis=0)\n",
    "prob_val = prob_val.sort_values(by ='id')\n",
    "prob_val.columns = ['prob']\n",
    "prob_test = pd.concat([prob0_test,prob1_test],axis=0)\n",
    "prob_test = prob_test.sort_values(by ='id',axis = 0)\n",
    "prob_test.columns = ['prob']\n",
    "\n",
    "hat_train = pd.concat([hat0_train,hat1_train],axis=0)\n",
    "hat_train = hat_train.sort_values(by ='id',axis = 0)\n",
    "hat_train.columns = ['hat']\n",
    "hat_val = pd.concat([hat0_val,hat1_val],axis=0)\n",
    "hat_val = hat_val.sort_values(by ='id',axis = 0)\n",
    "hat_val.columns = ['hat']\n",
    "hat_test = pd.concat([hat0_test,hat1_test],axis=0)\n",
    "hat_test = hat_test.sort_values(by ='id',axis = 0)\n",
    "hat_test.columns = ['hat']\n",
    "\n",
    "prob0_train=None\n",
    "prob0_val=None\n",
    "prob0_test=None\n",
    "prob1_train=None\n",
    "prob1_val=None\n",
    "prob1_test=None\n",
    "hat0_train = None\n",
    "hat0_val = None\n",
    "hat0_test = None\n",
    "hat1_train = None\n",
    "hat1_val = None\n",
    "hat1_test = None"
   ]
  },
  {
   "cell_type": "code",
   "execution_count": 32,
   "metadata": {},
   "outputs": [],
   "source": [
    "train = pd.concat([prob_train,hat_train],axis=1)\n",
    "val   = pd.concat([prob_val,hat_val],axis=1)\n",
    "test  = pd.concat([prob_test,hat_test],axis=1)\n",
    "\n",
    "ans_train=None\n",
    "ans_val  =None\n",
    "ans_test =None"
   ]
  },
  {
   "cell_type": "code",
   "execution_count": 33,
   "metadata": {},
   "outputs": [],
   "source": [
    "ans_train = pd.concat([pd.DataFrame(new_data[0].loc[:,'prob':'hat']),train],axis=0)\n",
    "ans_val = pd.concat([pd.DataFrame(new_data[1].loc[:,'prob':'hat']),val],axis=0)\n",
    "ans_test = pd.concat([pd.DataFrame(new_data[2].loc[:,'prob':'hat']),test],axis=0)\n",
    "\n",
    "ans_train = ans_train.sort_values(by='id',axis = 0)\n",
    "ans_val = ans_val.sort_values(by='id',axis = 0)\n",
    "ans_test = ans_test.sort_values(by='id',axis = 0)\n",
    "\n",
    "ans = [ans_train,ans_val,ans_test]\n",
    "\n",
    "train=None\n",
    "val  =None\n",
    "test =None"
   ]
  },
  {
   "cell_type": "code",
   "execution_count": 34,
   "metadata": {},
   "outputs": [
    {
     "data": {
      "text/html": [
       "<div>\n",
       "<style scoped>\n",
       "    .dataframe tbody tr th:only-of-type {\n",
       "        vertical-align: middle;\n",
       "    }\n",
       "\n",
       "    .dataframe tbody tr th {\n",
       "        vertical-align: top;\n",
       "    }\n",
       "\n",
       "    .dataframe thead th {\n",
       "        text-align: right;\n",
       "    }\n",
       "</style>\n",
       "<table border=\"1\" class=\"dataframe\">\n",
       "  <thead>\n",
       "    <tr style=\"text-align: right;\">\n",
       "      <th></th>\n",
       "      <th>prob</th>\n",
       "      <th>hat</th>\n",
       "    </tr>\n",
       "    <tr>\n",
       "      <th>id</th>\n",
       "      <th></th>\n",
       "      <th></th>\n",
       "    </tr>\n",
       "  </thead>\n",
       "  <tbody>\n",
       "    <tr>\n",
       "      <th>0</th>\n",
       "      <td>0.071033</td>\n",
       "      <td>0</td>\n",
       "    </tr>\n",
       "    <tr>\n",
       "      <th>1</th>\n",
       "      <td>0.105419</td>\n",
       "      <td>0</td>\n",
       "    </tr>\n",
       "    <tr>\n",
       "      <th>2</th>\n",
       "      <td>0.285477</td>\n",
       "      <td>0</td>\n",
       "    </tr>\n",
       "    <tr>\n",
       "      <th>3</th>\n",
       "      <td>0.963048</td>\n",
       "      <td>1</td>\n",
       "    </tr>\n",
       "    <tr>\n",
       "      <th>4</th>\n",
       "      <td>0.069004</td>\n",
       "      <td>0</td>\n",
       "    </tr>\n",
       "  </tbody>\n",
       "</table>\n",
       "</div>"
      ],
      "text/plain": [
       "        prob  hat\n",
       "id               \n",
       "0   0.071033    0\n",
       "1   0.105419    0\n",
       "2   0.285477    0\n",
       "3   0.963048    1\n",
       "4   0.069004    0"
      ]
     },
     "execution_count": 34,
     "metadata": {},
     "output_type": "execute_result"
    }
   ],
   "source": [
    "ans[0].head()"
   ]
  },
  {
   "cell_type": "markdown",
   "metadata": {},
   "source": [
    "### Verificando se houve uma melhora de performance"
   ]
  },
  {
   "cell_type": "code",
   "execution_count": 35,
   "metadata": {},
   "outputs": [
    {
     "data": {
      "image/png": "[encoded data removed]",
      "text/plain": [
       "<Figure size 432x288 with 1 Axes>"
      ]
     },
     "metadata": {
      "needs_background": "light"
     },
     "output_type": "display_data"
    }
   ],
   "source": [
    "fpr_keras, tpr_keras, thresholds_keras = roc_curve(_layers[0],ans[0].loc[:,'prob'])\n",
    "auc_keras = auc(fpr_keras, tpr_keras)\n",
    "\n",
    "plt.plot([0, 1], [0, 1], 'k--')\n",
    "plt.plot(fpr_keras, tpr_keras, label='AUC (area = {:.3f})'.format(auc_keras))\n",
    "plt.xlabel('False positive rate')\n",
    "plt.ylabel('True positive rate')\n",
    "plt.title('ROC curve')\n",
    "plt.legend(loc='best')\n",
    "plt.show()"
   ]
  }
 ],
 "metadata": {
  "kernelspec": {
   "display_name": "Python 3",
   "language": "python",
   "name": "python3"
  },
  "language_info": {
   "codemirror_mode": {
    "name": "ipython",
    "version": 3
   },
   "file_extension": ".py",
   "mimetype": "text/x-python",
   "name": "python",
   "nbconvert_exporter": "python",
   "pygments_lexer": "ipython3",
   "version": "3.7.3"
  }
 },
 "nbformat": 4,
 "nbformat_minor": 2
}
